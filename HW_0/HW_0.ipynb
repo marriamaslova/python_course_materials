{
 "cells": [
  {
   "cell_type": "markdown",
   "id": "4aae3dfe",
   "metadata": {},
   "source": [
    "## Вывод (std out)"
   ]
  },
  {
   "cell_type": "code",
   "execution_count": 1,
   "id": "19d51336",
   "metadata": {},
   "outputs": [],
   "source": [
    "## Напишите программу, которая вводит строки без newline или space (не забудьте что print принимает сколько угодно аргументов)\n",
    "\n",
    "# Тестовые данные\n",
    "\n",
    "# 1, 5, 8, 3 -> 1583\n",
    "# 1, \"new\", 8, \"old\" -> 1new8old\n",
    "\n"
   ]
  },
  {
   "cell_type": "code",
   "execution_count": null,
   "id": "4349312f",
   "metadata": {},
   "outputs": [],
   "source": [
    "data = input().split()\n",
    "print(''.join(data))"
   ]
  },
  {
   "cell_type": "markdown",
   "id": "c6a2735e",
   "metadata": {},
   "source": [
    "## Арифметика "
   ]
  },
  {
   "cell_type": "code",
   "execution_count": 2,
   "id": "bc23a479",
   "metadata": {},
   "outputs": [],
   "source": [
    "## Расчитайте расстояние между двумя заданными точками (math.sqrt) заданными в двумерном пространстве\n",
    "\n",
    "# Тестовые данные\n",
    "\n",
    "# [0, 0], [1, 1] -> 1.4142135623730951\n",
    "# [0, 1], [1, 5] -> 4.123105625617661\n",
    "# [4, 1], [12, 5] -> 8.94427190999916\n",
    "\n"
   ]
  },
  {
   "cell_type": "code",
   "execution_count": null,
   "id": "a8e35d2d",
   "metadata": {},
   "outputs": [],
   "source": [
    "import math\n",
    "p1 = [0, 1]\n",
    "p2 = [1, 5]\n",
    "distance = math.sqrt(((p1[0]-p2[0])**2)+((p1[1]-p2[1])**2))\n",
    "print(distance)"
   ]
  },
  {
   "cell_type": "markdown",
   "id": "6c5d4192",
   "metadata": {},
   "source": [
    "## Списки"
   ]
  },
  {
   "cell_type": "code",
   "execution_count": 3,
   "id": "ace65e2e",
   "metadata": {},
   "outputs": [],
   "source": [
    "## Посчитайте сумму элементов в списке (только тех, что чей тип float)\n",
    "\n",
    "# Тестовые данные\n",
    "\n",
    "color_list = [0.1,\"зеленый\", 1.6, \"белый\", 0.3, \"черный\", 7, \"2.0\"]\n",
    "\n",
    "# ответ: 2"
   ]
  },
  {
   "cell_type": "code",
   "execution_count": null,
   "id": "0a0661d8",
   "metadata": {},
   "outputs": [],
   "source": [
    "color_list = [0.1,\"зеленый\", 1.6, \"белый\", 0.3, \"черный\", 5.2, \"2.0\"]\n",
    "i = 0\n",
    "final = 0\n",
    "while i < len(color_list):\n",
    "  if type(color_list[i]) == float:\n",
    "    final = final + color_list[i]\n",
    "  i += 1\n",
    "print(final)"
   ]
  },
  {
   "cell_type": "code",
   "execution_count": 4,
   "id": "f5efd6f8",
   "metadata": {},
   "outputs": [],
   "source": [
    "## Отобразите с помощью print только первый и последний элемент списка (цикл while)\n",
    "\n",
    "# Тестовые данные\n",
    "\n",
    "color_list = [\"красный\",\"зеленый\",\"белый\" ,\"черный\"]"
   ]
  },
  {
   "cell_type": "code",
   "execution_count": null,
   "id": "746fcc57",
   "metadata": {},
   "outputs": [],
   "source": [
    "color_list = ['красный', 'зеленый', 'белый', 'черный', 'фиолетовый']\n",
    "print(color_list[0], color_list[-1])"
   ]
  },
  {
   "cell_type": "code",
   "execution_count": 5,
   "id": "0120e466",
   "metadata": {},
   "outputs": [],
   "source": [
    "## Проверьте есть ли в данный элемент в списке, если есть выведите с помощью print \"Element такой то was found\", если элемента не нашлось выведите \"Clear\" (цикл while) \n",
    "\n",
    "# Тестовые данные\n",
    "\n",
    "# 3 -> [1, 5, 8, 3] -> \"Element 3 was found\"\n",
    "# -1 -> [1, 5, 8, 3] -> \"Clear\"\n",
    "# \"color\" -> [1, \"color\", 1.3, 3] ->  \"Element color was found\"\n"
   ]
  },
  {
   "cell_type": "code",
   "execution_count": null,
   "id": "162026ab",
   "metadata": {},
   "outputs": [],
   "source": [
    "test_list = [1, 'color', 1.3, 3]\n",
    "n = 'color'\n",
    "if n in test_list:\n",
    "  print('Element', n, 'was found')\n",
    "else:\n",
    "  print('Clear')"
   ]
  },
  {
   "cell_type": "code",
   "execution_count": 6,
   "id": "824424aa",
   "metadata": {},
   "outputs": [],
   "source": [
    "## Пройдите по списку и объедините все элементы из списка в одну строку через пробел (цикл while)\n",
    "\n",
    "# Тестовые данные\n",
    "\n",
    "# [\"9\", \"caMii\", \" /\\y4LLIii\", \"proger\", \"v\", \"2022\", \"roDy\"] -> 9 caMii  /\\y4LLIii proger v 2022 roDy"
   ]
  },
  {
   "cell_type": "code",
   "execution_count": null,
   "id": "e0e7d7ec",
   "metadata": {},
   "outputs": [],
   "source": [
    "test_list = [\"9\", \"caMii\", \" /\\y4LLIii\", \"proger\", \"v\", \"2022\", \"roDy\"]\n",
    "final = ' '.join(test_list)\n",
    "print(final)"
   ]
  },
  {
   "cell_type": "code",
   "execution_count": 7,
   "id": "1c52c4b8",
   "metadata": {},
   "outputs": [],
   "source": [
    "## Пройдите по двум списка сразу и выведите сразу по два элемента - один из одного списка, другой из другого \n",
    "## (подсказка - обращайтесь по индексу к элементам обоих списков)\n",
    "\n",
    "# Тестовые данные\n",
    "\n",
    "color_list_1 = [\"White\", \"Black\", \"Red\"]\n",
    "color_list_2 = [\"Red\", \"Green\", \"White\"]\n",
    "\n",
    "# White Red\n",
    "# Black Green\n",
    "# Red White"
   ]
  },
  {
   "cell_type": "code",
   "execution_count": null,
   "id": "f55c17f0",
   "metadata": {},
   "outputs": [],
   "source": [
    "color_list_1 = [\"White\", \"Black\", \"Red\"] \n",
    "color_list_2 = [\"Red\", \"Green\", \"White\"]\n",
    "i = 0\n",
    "j = 0\n",
    "while i < len(color_list_1):\n",
    "  while j < len(color_list_2):\n",
    "    print(color_list_1[i], color_list_2[j])\n",
    "    i += 1\n",
    "    j += 1"
   ]
  },
  {
   "cell_type": "code",
   "execution_count": 8,
   "id": "9d59ec07",
   "metadata": {},
   "outputs": [],
   "source": [
    "## Пройдите по списку и выводите каждый следующий элемент столько раз какой у него ((индекс + 1) * 3) в списке (цикл while) \n",
    "\n",
    "# Тестовые данные\n",
    "\n",
    "a = [\"a\", \"b\", \"c\", \"d\"] \n",
    "\n",
    "# ответ -> \"aaabbbbbbcccccccccdddddddddddd\""
   ]
  },
  {
   "cell_type": "code",
   "execution_count": null,
   "id": "8b9561b1",
   "metadata": {},
   "outputs": [],
   "source": [
    "a = [\"a\", \"b\", \"c\", \"d\"]\n",
    "i = 0\n",
    "quantity = 0\n",
    "final = ''\n",
    "while i < len(a):\n",
    "  quantity = ((i+1)*3)\n",
    "  final = final + a[i]*quantity\n",
    "  i += 1\n",
    "print(final)"
   ]
  },
  {
   "cell_type": "code",
   "execution_count": 9,
   "id": "bfd569fd",
   "metadata": {},
   "outputs": [],
   "source": [
    "## Зайдите в каждый масив внутри (если это списко) и рассортируйте мне элементы по соответствующим спискам (не забудьте про append)\n",
    "\n",
    "sample = [[\"a\", \"b\", 1, 2.4], \"string\", [\"new\", 11111, 1000.0, \"old\"]]\n",
    "\n",
    "\n",
    "integers = []\n",
    "floats = []\n",
    "strings = []\n",
    "\n",
    "# ответ\n",
    "# integers -> [1, 11111]\n",
    "# floats -> [2.4, 1000.0]\n",
    "# strings -> [\"a\", \"b\", \"string\", \"new\", \"old\"]"
   ]
  },
  {
   "cell_type": "code",
   "execution_count": null,
   "id": "218e1d5b",
   "metadata": {},
   "outputs": [],
   "source": [
    "sample = [[\"a\", \"b\", 1, 2.4], \"string\", [\"new\", 11111, 1000.0, \"old\"]]\n",
    "sample_1 = []\n",
    "i = 0\n",
    "integers = [] \n",
    "floats = [] \n",
    "strings = []\n",
    "for elem in sample:\n",
    "  if type(elem) == list:\n",
    "    for e in elem:\n",
    "      sample_1.append(e)\n",
    "  else:\n",
    "    sample_1.append(elem)\n",
    "while i < len(sample_1):\n",
    "  if type(sample_1[i]) == int:\n",
    "      integers.append(sample_1[i])\n",
    "  elif type(sample_1[i]) == float:\n",
    "      floats.append(sample_1[i])\n",
    "  elif type(sample_1[i]) == str:\n",
    "      strings.append(sample_1[i]) \n",
    "  i += 1\n",
    "print('Integers', integers)\n",
    "print('Floats', floats)\n",
    "print('Strings', strings)"
   ]
  },
  {
   "cell_type": "markdown",
   "id": "4d785ec2",
   "metadata": {},
   "source": [
    "## Библиотеки "
   ]
  },
  {
   "cell_type": "code",
   "execution_count": 10,
   "id": "0937e5e0",
   "metadata": {},
   "outputs": [],
   "source": [
    "## Напишите программу, которая выводит настоящее время ( то есть в ремя в которую программа запущена, используйте либу - time) \n",
    "\n",
    "# Тестовые данные (например)\n",
    "\n",
    "# 'Sat Oct  1 00:34:36 2022'"
   ]
  },
  {
   "cell_type": "code",
   "execution_count": null,
   "id": "e8f9eaa4",
   "metadata": {},
   "outputs": [],
   "source": [
    "import time\n",
    "print(time.ctime())"
   ]
  }
 ],
 "metadata": {
  "kernelspec": {
   "display_name": "Python 3 (ipykernel)",
   "language": "python",
   "name": "python3"
  },
  "language_info": {
   "codemirror_mode": {
    "name": "ipython",
    "version": 3
   },
   "file_extension": ".py",
   "mimetype": "text/x-python",
   "name": "python",
   "nbconvert_exporter": "python",
   "pygments_lexer": "ipython3",
   "version": "3.9.12"
  }
 },
 "nbformat": 4,
 "nbformat_minor": 5
}
